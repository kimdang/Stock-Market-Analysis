{
 "cells": [
  {
   "cell_type": "code",
   "execution_count": 1,
   "metadata": {},
   "outputs": [],
   "source": [
    "import pandas as pd\n",
    "from pandas import Series, DataFrame\n",
    "import numpy as np\n",
    "import matplotlib.pyplot as plt\n",
    "import matplotlib\n",
    "import seaborn as sns\n",
    "sns.set_style('whitegrid')\n",
    "%matplotlib inline\n",
    "from datetime import datetime\n",
    "import pandas_datareader.data as web"
   ]
  },
  {
   "cell_type": "code",
   "execution_count": 2,
   "metadata": {},
   "outputs": [],
   "source": [
    "tech_list = ['AAPL', 'GOOGL', 'MSFT', 'AMZN']"
   ]
  },
  {
   "cell_type": "code",
   "execution_count": 3,
   "metadata": {},
   "outputs": [],
   "source": [
    "# identify a time period when stock would be analyzed \n",
    "year = datetime.today().year\n",
    "month = datetime.today().month\n",
    "day = datetime.today().day\n",
    "end = \"%s-%s-%s\" %(year-1,month,day)\n",
    "start = \"%s-%s-%s\" %(year-2,month,day)"
   ]
  },
  {
   "cell_type": "code",
   "execution_count": 4,
   "metadata": {
    "scrolled": true
   },
   "outputs": [],
   "source": [
    "# pull data from quandl\n",
    "for stock in tech_list:\n",
    "    globals()[stock] = web.DataReader(stock, 'quandl', start, end, access_key=\"2R89GBx5133ux-s5Gmad\")"
   ]
  },
  {
   "cell_type": "markdown",
   "metadata": {},
   "source": [
    "<h2> Basic Analysis </h2>"
   ]
  },
  {
   "cell_type": "code",
   "execution_count": 5,
   "metadata": {},
   "outputs": [],
   "source": [
    "def basic_plot (df, company_name):\n",
    "    fig1 = plt.figure()\n",
    "    plt.subplot(211)\n",
    "    df['AdjClose'].plot(figsize=(18,10), color='r')\n",
    "    plt.ylabel(\"Adjusted Closing Price (US dollar)\", fontsize=15)\n",
    "    plt.title(\"%s Stock from %s to %s\" %(company_name, start,end), fontsize=20) \n",
    "    \n",
    "    plt.subplot(212)\n",
    "    df['Volume'].plot(figsize=(18,10))\n",
    "    plt.title(\"%s Stock from %s to %s\" %(company_name, start,end), fontsize=20) \n",
    "    plt.ylabel(\"Number of Shares\", fontsize=15)\n",
    "    \n",
    "    plt.tight_layout()\n",
    "    filename = 'basic_%s.png' %(company_name)\n",
    "    fig1.savefig(filename)\n",
    "\n",
    "    plt.clf()\n",
    "    return "
   ]
  },
  {
   "cell_type": "code",
   "execution_count": 6,
   "metadata": {},
   "outputs": [],
   "source": [
    "def moving_avg (df, company_name):\n",
    "    MA_day = [20,30,50]\n",
    "    for MA in MA_day:\n",
    "        column_name = \"MA for %s days\" %(str(MA))\n",
    "        df[column_name] = AAPL['AdjClose'].rolling(MA).mean()\n",
    "        \n",
    "    fig2 = df[['AdjClose', 'MA for 20 days', 'MA for 30 days', 'MA for 50 days']].plot(legend=True, figsize=(18,8))\n",
    "    plt.title('Moving Average of %s Stock from %s to %s' %(company_name, start,end), fontsize=20)\n",
    "    plt.ylabel(\"(US dollar)\", fontsize=15)\n",
    "    fig2.savefig('movingavg_%s.png' %(company_name))\n",
    "    plt.clf()\n",
    "    return "
   ]
  },
  {
   "cell_type": "code",
   "execution_count": 7,
   "metadata": {},
   "outputs": [],
   "source": [
    "def daily_return (df, company_name):\n",
    "    plt.figure()\n",
    "    plt.subplot(211)\n",
    "    df['Daily Return'] = df['AdjClose'].pct_change()\n",
    "    df['Daily Return'].multiply(100).plot(figsize=(10,5), marker='o')\n",
    "    plt.ylabel('Daily Return Percentage')\n",
    "    plt.title('%s Stock from %s to %s' %(company_name, start,end), fontsize=20)\n",
    "    \n",
    "    plt.subplot(212)\n",
    "    sns.distplot(df['Daily Return'].dropna(), bins=100, color='green')\n",
    "    plt.xlabel('Daily Return Percentage')\n",
    "    plt.title('%s Stock from %s to %s' %(company_name, start,end), fontsize=20)\n",
    "    \n",
    "    plt.tight_layout()\n",
    "    return"
   ]
  },
  {
   "cell_type": "code",
   "execution_count": 8,
   "metadata": {},
   "outputs": [
    {
     "data": {
      "text/plain": [
       "<Figure size 1296x720 with 0 Axes>"
      ]
     },
     "metadata": {},
     "output_type": "display_data"
    },
    {
     "data": {
      "text/plain": [
       "<Figure size 1296x720 with 0 Axes>"
      ]
     },
     "metadata": {},
     "output_type": "display_data"
    },
    {
     "data": {
      "text/plain": [
       "<Figure size 1296x720 with 0 Axes>"
      ]
     },
     "metadata": {},
     "output_type": "display_data"
    },
    {
     "data": {
      "text/plain": [
       "<Figure size 1296x720 with 0 Axes>"
      ]
     },
     "metadata": {},
     "output_type": "display_data"
    }
   ],
   "source": [
    "basic_plot(AAPL, 'Apple')\n",
    "basic_plot(GOOGL, 'Google')\n",
    "basic_plot(AMZN, 'Amazon')\n",
    "basic_plot(MSFT, 'Microsoft')"
   ]
  },
  {
   "cell_type": "markdown",
   "metadata": {},
   "source": [
    "<h2> Comparison </h2>"
   ]
  },
  {
   "cell_type": "code",
   "execution_count": 9,
   "metadata": {},
   "outputs": [],
   "source": [
    "closing_df = pd.DataFrame(list([AAPL['AdjClose'],GOOGL['AdjClose'],MSFT['AdjClose'],AMZN['AdjClose']])).T\n",
    "closing_df.columns = ['AAPL', 'GOOGL', 'MSFT', 'AMZN']"
   ]
  },
  {
   "cell_type": "code",
   "execution_count": 10,
   "metadata": {},
   "outputs": [],
   "source": [
    "# calculate daily percentage return\n",
    "tech_rets = closing_df.pct_change()"
   ]
  },
  {
   "cell_type": "code",
   "execution_count": 11,
   "metadata": {},
   "outputs": [],
   "source": [
    "def joint_plot (company1, company2):\n",
    "    g = g.plot_joint(plt.scatter, color = 'green')\n",
    "    g = g.plot_marginals(sns.distplot, kde=False, color=\"green\")\n",
    "    g.annotate(stats.pearsonr, fontsize=13)\n",
    "    plt.clf()\n",
    "    return "
   ]
  },
  {
   "cell_type": "code",
   "execution_count": 12,
   "metadata": {},
   "outputs": [],
   "source": [
    "# HOW TO USE pairplot AND pairgrid\n",
    "\n",
    "# f = sns.pairplot(data=tech_rets.dropna(), height=7)\n",
    "\n",
    "# j = sns.PairGrid(tech_rets.dropna(), height=7)\n",
    "# j.map_upper(plt.scatter, color='purple')\n",
    "# j.map_lower(sns.kdeplot, cmap='Blues_d')\n",
    "# j.map_diag(plt.hist, bins=20)\n",
    "\n",
    "# j = sns.PairGrid(closing_df.dropna(), height=7)\n",
    "# j.map_upper(plt.scatter, color='purple')\n",
    "# j.map_lower(sns.kdeplot, cmap='Blues_d')\n",
    "# j.map_diag(plt.hist, bins=20)"
   ]
  },
  {
   "cell_type": "code",
   "execution_count": 13,
   "metadata": {},
   "outputs": [
    {
     "data": {
      "text/html": [
       "<div>\n",
       "<style scoped>\n",
       "    .dataframe tbody tr th:only-of-type {\n",
       "        vertical-align: middle;\n",
       "    }\n",
       "\n",
       "    .dataframe tbody tr th {\n",
       "        vertical-align: top;\n",
       "    }\n",
       "\n",
       "    .dataframe thead th {\n",
       "        text-align: right;\n",
       "    }\n",
       "</style>\n",
       "<table border=\"1\" class=\"dataframe\">\n",
       "  <thead>\n",
       "    <tr style=\"text-align: right;\">\n",
       "      <th></th>\n",
       "      <th>AAPL</th>\n",
       "      <th>GOOGL</th>\n",
       "      <th>MSFT</th>\n",
       "      <th>AMZN</th>\n",
       "    </tr>\n",
       "  </thead>\n",
       "  <tbody>\n",
       "    <tr>\n",
       "      <th>AAPL</th>\n",
       "      <td>1.000000</td>\n",
       "      <td>0.617704</td>\n",
       "      <td>0.634702</td>\n",
       "      <td>0.517927</td>\n",
       "    </tr>\n",
       "    <tr>\n",
       "      <th>GOOGL</th>\n",
       "      <td>0.617704</td>\n",
       "      <td>1.000000</td>\n",
       "      <td>0.775631</td>\n",
       "      <td>0.625175</td>\n",
       "    </tr>\n",
       "    <tr>\n",
       "      <th>MSFT</th>\n",
       "      <td>0.634702</td>\n",
       "      <td>0.775631</td>\n",
       "      <td>1.000000</td>\n",
       "      <td>0.675461</td>\n",
       "    </tr>\n",
       "    <tr>\n",
       "      <th>AMZN</th>\n",
       "      <td>0.517927</td>\n",
       "      <td>0.625175</td>\n",
       "      <td>0.675461</td>\n",
       "      <td>1.000000</td>\n",
       "    </tr>\n",
       "  </tbody>\n",
       "</table>\n",
       "</div>"
      ],
      "text/plain": [
       "           AAPL     GOOGL      MSFT      AMZN\n",
       "AAPL   1.000000  0.617704  0.634702  0.517927\n",
       "GOOGL  0.617704  1.000000  0.775631  0.625175\n",
       "MSFT   0.634702  0.775631  1.000000  0.675461\n",
       "AMZN   0.517927  0.625175  0.675461  1.000000"
      ]
     },
     "execution_count": 13,
     "metadata": {},
     "output_type": "execute_result"
    }
   ],
   "source": [
    "tech_rets.corr(method='pearson')"
   ]
  },
  {
   "cell_type": "code",
   "execution_count": 14,
   "metadata": {},
   "outputs": [
    {
     "data": {
      "text/html": [
       "<div>\n",
       "<style scoped>\n",
       "    .dataframe tbody tr th:only-of-type {\n",
       "        vertical-align: middle;\n",
       "    }\n",
       "\n",
       "    .dataframe tbody tr th {\n",
       "        vertical-align: top;\n",
       "    }\n",
       "\n",
       "    .dataframe thead th {\n",
       "        text-align: right;\n",
       "    }\n",
       "</style>\n",
       "<table border=\"1\" class=\"dataframe\">\n",
       "  <thead>\n",
       "    <tr style=\"text-align: right;\">\n",
       "      <th></th>\n",
       "      <th>AAPL</th>\n",
       "      <th>GOOGL</th>\n",
       "      <th>MSFT</th>\n",
       "      <th>AMZN</th>\n",
       "    </tr>\n",
       "  </thead>\n",
       "  <tbody>\n",
       "    <tr>\n",
       "      <th>AAPL</th>\n",
       "      <td>1.000000</td>\n",
       "      <td>0.800419</td>\n",
       "      <td>0.809815</td>\n",
       "      <td>0.705341</td>\n",
       "    </tr>\n",
       "    <tr>\n",
       "      <th>GOOGL</th>\n",
       "      <td>0.800419</td>\n",
       "      <td>1.000000</td>\n",
       "      <td>0.944834</td>\n",
       "      <td>0.839070</td>\n",
       "    </tr>\n",
       "    <tr>\n",
       "      <th>MSFT</th>\n",
       "      <td>0.809815</td>\n",
       "      <td>0.944834</td>\n",
       "      <td>1.000000</td>\n",
       "      <td>0.944854</td>\n",
       "    </tr>\n",
       "    <tr>\n",
       "      <th>AMZN</th>\n",
       "      <td>0.705341</td>\n",
       "      <td>0.839070</td>\n",
       "      <td>0.944854</td>\n",
       "      <td>1.000000</td>\n",
       "    </tr>\n",
       "  </tbody>\n",
       "</table>\n",
       "</div>"
      ],
      "text/plain": [
       "           AAPL     GOOGL      MSFT      AMZN\n",
       "AAPL   1.000000  0.800419  0.809815  0.705341\n",
       "GOOGL  0.800419  1.000000  0.944834  0.839070\n",
       "MSFT   0.809815  0.944834  1.000000  0.944854\n",
       "AMZN   0.705341  0.839070  0.944854  1.000000"
      ]
     },
     "execution_count": 14,
     "metadata": {},
     "output_type": "execute_result"
    }
   ],
   "source": [
    "closing_df.corr(method='pearson')"
   ]
  },
  {
   "cell_type": "markdown",
   "metadata": {},
   "source": [
    "<h2> Risk Analysis </h2>"
   ]
  },
  {
   "cell_type": "code",
   "execution_count": 15,
   "metadata": {},
   "outputs": [
    {
     "data": {
      "image/png": "[encoded data removed]",
      "text/plain": [
       "<Figure size 720x360 with 1 Axes>"
      ]
     },
     "metadata": {
      "needs_background": "light"
     },
     "output_type": "display_data"
    }
   ],
   "source": [
    "rets = tech_rets.dropna()\n",
    "plt.figure(figsize=(10,5))\n",
    "plt.scatter(x=rets.mean(), y=rets.std())\n",
    "plt.xlim(0,0.004)\n",
    "# standard deviation is risk \n",
    "plt.xlabel('Expected Return')\n",
    "plt.ylabel('Risk')\n",
    "plt.title('Daily Percentage Return', fontsize=15)\n",
    "for label, x, y in zip(rets.columns, rets.mean(), rets.std()):\n",
    "    plt.annotate(\n",
    "        label, \n",
    "        xy = (x, y), xytext = (70, 70),\n",
    "        textcoords = 'offset points', ha = 'left', va = 'top',\n",
    "        arrowprops = dict(arrowstyle = '-', connectionstyle = 'arc3,rad=-0.3', color='r'))"
   ]
  },
  {
   "cell_type": "markdown",
   "metadata": {},
   "source": [
    "<h2> Value at Risk: Empirical Quantiles </h2>"
   ]
  },
  {
   "cell_type": "code",
   "execution_count": 16,
   "metadata": {},
   "outputs": [
    {
     "data": {
      "text/plain": [
       "-0.045791093581828896"
      ]
     },
     "execution_count": 16,
     "metadata": {},
     "output_type": "execute_result"
    }
   ],
   "source": [
    "rets['GOOGL'].quantile(0.01)"
   ]
  },
  {
   "cell_type": "code",
   "execution_count": 17,
   "metadata": {},
   "outputs": [
    {
     "data": {
      "text/plain": [
       "-0.02835052582957094"
      ]
     },
     "execution_count": 17,
     "metadata": {},
     "output_type": "execute_result"
    }
   ],
   "source": [
    "rets['AAPL'].quantile(0.01)"
   ]
  },
  {
   "cell_type": "code",
   "execution_count": 18,
   "metadata": {},
   "outputs": [
    {
     "data": {
      "text/plain": [
       "-0.039386791294659926"
      ]
     },
     "execution_count": 18,
     "metadata": {},
     "output_type": "execute_result"
    }
   ],
   "source": [
    "rets['AMZN'].quantile(0.01)"
   ]
  },
  {
   "cell_type": "code",
   "execution_count": 19,
   "metadata": {},
   "outputs": [
    {
     "data": {
      "text/plain": [
       "-0.04053454922275178"
      ]
     },
     "execution_count": 19,
     "metadata": {},
     "output_type": "execute_result"
    }
   ],
   "source": [
    "rets['MSFT'].quantile(0.01)"
   ]
  },
  {
   "cell_type": "markdown",
   "metadata": {},
   "source": [
    "<h2> Value at Risk: Monte Carlo"
   ]
  },
  {
   "cell_type": "code",
   "execution_count": 20,
   "metadata": {},
   "outputs": [],
   "source": [
    "def monte_carlo (start_price,dt,mu,sigma,days):\n",
    "    price=np.zeros(days)\n",
    "    shock=np.zeros(days)\n",
    "    drift=np.zeros(days)\n",
    "    price[0]=start_price\n",
    "    \n",
    "    for i in range(1,days):\n",
    "        shock[i] = np.random.normal(loc=mu*dt, scale=sigma*np.sqrt(dt))\n",
    "        drift[i] = mu*dt \n",
    "        price[i] = price[i-1] + price[i-1]*(drift[i] + shock[i])\n",
    "    return price\n",
    "            "
   ]
  },
  {
   "cell_type": "code",
   "execution_count": 21,
   "metadata": {},
   "outputs": [],
   "source": [
    "start_price = {\n",
    "    'GOOGL' : GOOGL['AdjClose'].iloc[0],\n",
    "    'AMZN' : AMZN['AdjClose'].iloc[0],\n",
    "    'MSFT' : MSFT['AdjClose'].iloc[0],\n",
    "    'AAPL' : AAPL['AdjClose'].iloc[0]\n",
    "}"
   ]
  },
  {
   "cell_type": "code",
   "execution_count": 22,
   "metadata": {},
   "outputs": [],
   "source": [
    "def simulation_monte_carlo(company):\n",
    "    days=365\n",
    "    dt=1/days\n",
    "    mu=rets['%s' %(company)].mean()\n",
    "    sigma=rets['%s' %(company)].std()\n",
    "    \n",
    "    runs = 500\n",
    "    simulation = np.zeros(runs)\n",
    "    start = start_price['%s' %(company)]\n",
    "    for j in range(runs):\n",
    "        simulation[j] = monte_carlo(start,dt,mu,sigma,days)[-1]\n",
    "        \n",
    "    plt.figure(figsize=(10,5))    \n",
    "    plt.hist(simulation,bins=100)\n",
    "    plt.xlabel('US dollar')\n",
    "    plt.title('Monte Carlo Simulation of %s Stock' %(company), fontsize=15)\n",
    "    \n",
    "    mean = simulation.mean()\n",
    "    return mean"
   ]
  },
  {
   "cell_type": "code",
   "execution_count": 23,
   "metadata": {},
   "outputs": [
    {
     "data": {
      "image/png": "[encoded data removed]",
      "text/plain": [
       "<Figure size 720x360 with 1 Axes>"
      ]
     },
     "metadata": {
      "needs_background": "light"
     },
     "output_type": "display_data"
    }
   ],
   "source": [
    "ngan = simulation_monte_carlo('AMZN')"
   ]
  },
  {
   "cell_type": "code",
   "execution_count": 24,
   "metadata": {},
   "outputs": [
    {
     "data": {
      "text/plain": [
       "1502.8946740234915"
      ]
     },
     "execution_count": 24,
     "metadata": {},
     "output_type": "execute_result"
    }
   ],
   "source": [
    "ngan"
   ]
  },
  {
   "cell_type": "code",
   "execution_count": null,
   "metadata": {},
   "outputs": [],
   "source": []
  }
 ],
 "metadata": {
  "kernelspec": {
   "display_name": "Python 3",
   "language": "python",
   "name": "python3"
  },
  "language_info": {
   "codemirror_mode": {
    "name": "ipython",
    "version": 3
   },
   "file_extension": ".py",
   "mimetype": "text/x-python",
   "name": "python",
   "nbconvert_exporter": "python",
   "pygments_lexer": "ipython3",
   "version": "3.7.3"
  }
 },
 "nbformat": 4,
 "nbformat_minor": 2
}
