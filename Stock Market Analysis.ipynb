{
 "cells": [
  {
   "cell_type": "code",
   "execution_count": 1,
   "metadata": {},
   "outputs": [],
   "source": [
    "import pandas as pd\n",
    "from pandas import Series, DataFrame\n",
    "import numpy as np\n",
    "import matplotlib.pyplot as plt\n",
    "import matplotlib\n",
    "import seaborn as sns\n",
    "sns.set_style('whitegrid')\n",
    "%matplotlib inline\n",
    "from datetime import datetime\n",
    "import pandas_datareader.data as web"
   ]
  },
  {
   "cell_type": "code",
   "execution_count": 2,
   "metadata": {},
   "outputs": [],
   "source": [
    "tech_list = ['AAPL', 'GOOGL', 'MSFT', 'AMZN']"
   ]
  },
  {
   "cell_type": "code",
   "execution_count": 3,
   "metadata": {},
   "outputs": [],
   "source": [
    "# identify a time period when stock would be analyzed \n",
    "year = datetime.today().year\n",
    "month = datetime.today().month\n",
    "day = datetime.today().day\n",
    "end = \"%s-%s-%s\" %(year-1,month,day)\n",
    "start = \"%s-%s-%s\" %(year-2,month,day)"
   ]
  },
  {
   "cell_type": "code",
   "execution_count": 4,
   "metadata": {
    "scrolled": true
   },
   "outputs": [],
   "source": [
    "# pull data from quandl\n",
    "for stock in tech_list:\n",
    "    globals()[stock] = web.DataReader(stock, 'quandl', start, end, access_key=\"2R89GBx5133ux-s5Gmad\")"
   ]
  },
  {
   "cell_type": "markdown",
   "metadata": {},
   "source": [
    "<h2> Basic Analysis </h2>"
   ]
  },
  {
   "cell_type": "code",
   "execution_count": 5,
   "metadata": {},
   "outputs": [],
   "source": [
    "def basic_plot (df, company_name):\n",
    "    fig1 = plt.figure()\n",
    "    df['AdjClose'].plot(figsize=(18,10), color='r')\n",
    "    plt.ylabel(\"Adjusted Closing Price (US dollar)\", fontsize=15)\n",
    "    plt.title(\"%s Stock from %s to %s\" %(company_name, start,end), fontsize=20) \n",
    "    \n",
    "    filename = 'stock_%s.png' %(company_name)\n",
    "    fig1.savefig(filename)\n",
    "\n",
    "    plt.clf()\n",
    "    return "
   ]
  },
  {
   "cell_type": "code",
   "execution_count": 6,
   "metadata": {},
   "outputs": [],
   "source": [
    "def moving_avg (df, company_name):\n",
    "    MA_day = [20,30,50]\n",
    "    for MA in MA_day:\n",
    "        column_name = \"MA for %s days\" %(str(MA))\n",
    "        df[column_name] = df['AdjClose'].rolling(MA).mean()\n",
    "        \n",
    "    fig2 = df[['AdjClose', 'MA for 20 days', 'MA for 30 days', 'MA for 50 days']].plot(legend=True, figsize=(18,8))\n",
    "    plt.title('Moving Average of %s Stock from %s to %s' %(company_name, start,end), fontsize=20)\n",
    "    plt.ylabel(\"(US dollar)\", fontsize=15)\n",
    "    \n",
    "    fig2.figure.savefig('movingavg_%s.png' %(company_name))\n",
    "    plt.clf()\n",
    "    return "
   ]
  },
  {
   "cell_type": "code",
   "execution_count": 7,
   "metadata": {},
   "outputs": [],
   "source": [
    "def daily_return (df, company_name):\n",
    "    fig3 = plt.figure()\n",
    "    plt.subplot(211)\n",
    "    df['Daily Return'] = df['AdjClose'].pct_change()\n",
    "    df['Daily Return'].multiply(100).plot(figsize=(18,10), marker='o')\n",
    "    plt.ylabel('Daily Return Percentage')\n",
    "    plt.title('%s Stock from %s to %s' %(company_name, start,end), fontsize=20)\n",
    "    \n",
    "    plt.subplot(212)\n",
    "    sns.distplot(df['Daily Return'].dropna(), bins=100, color='green')\n",
    "    plt.xlabel('Daily Return Percentage')\n",
    "    \n",
    "    plt.tight_layout()\n",
    "    \n",
    "    fig3.savefig('dailyreturn_%s.png' %(company_name))\n",
    "    plt.clf()\n",
    "    return"
   ]
  },
  {
   "cell_type": "code",
   "execution_count": 8,
   "metadata": {},
   "outputs": [
    {
     "data": {
      "text/plain": [
       "<Figure size 1296x720 with 0 Axes>"
      ]
     },
     "metadata": {},
     "output_type": "display_data"
    },
    {
     "data": {
      "text/plain": [
       "<Figure size 1296x720 with 0 Axes>"
      ]
     },
     "metadata": {},
     "output_type": "display_data"
    },
    {
     "data": {
      "text/plain": [
       "<Figure size 1296x720 with 0 Axes>"
      ]
     },
     "metadata": {},
     "output_type": "display_data"
    },
    {
     "data": {
      "text/plain": [
       "<Figure size 1296x720 with 0 Axes>"
      ]
     },
     "metadata": {},
     "output_type": "display_data"
    }
   ],
   "source": [
    "basic_plot(AAPL, 'Apple')\n",
    "basic_plot(GOOGL, 'Google')\n",
    "basic_plot(AMZN, 'Amazon')\n",
    "basic_plot(MSFT, 'Microsoft')"
   ]
  },
  {
   "cell_type": "code",
   "execution_count": 9,
   "metadata": {},
   "outputs": [
    {
     "data": {
      "text/plain": [
       "<Figure size 1296x576 with 0 Axes>"
      ]
     },
     "metadata": {},
     "output_type": "display_data"
    },
    {
     "data": {
      "text/plain": [
       "<Figure size 1296x576 with 0 Axes>"
      ]
     },
     "metadata": {},
     "output_type": "display_data"
    },
    {
     "data": {
      "text/plain": [
       "<Figure size 1296x576 with 0 Axes>"
      ]
     },
     "metadata": {},
     "output_type": "display_data"
    },
    {
     "data": {
      "text/plain": [
       "<Figure size 1296x576 with 0 Axes>"
      ]
     },
     "metadata": {},
     "output_type": "display_data"
    }
   ],
   "source": [
    "moving_avg(AAPL, 'Apple')\n",
    "moving_avg(GOOGL, 'Google')\n",
    "moving_avg(AMZN, 'Amazon')\n",
    "moving_avg(MSFT, 'Microsoft')"
   ]
  },
  {
   "cell_type": "code",
   "execution_count": 10,
   "metadata": {},
   "outputs": [
    {
     "data": {
      "text/plain": [
       "<Figure size 1296x720 with 0 Axes>"
      ]
     },
     "metadata": {},
     "output_type": "display_data"
    },
    {
     "data": {
      "text/plain": [
       "<Figure size 1296x720 with 0 Axes>"
      ]
     },
     "metadata": {},
     "output_type": "display_data"
    },
    {
     "data": {
      "text/plain": [
       "<Figure size 1296x720 with 0 Axes>"
      ]
     },
     "metadata": {},
     "output_type": "display_data"
    },
    {
     "data": {
      "text/plain": [
       "<Figure size 1296x720 with 0 Axes>"
      ]
     },
     "metadata": {},
     "output_type": "display_data"
    }
   ],
   "source": [
    "daily_return(AAPL, 'Apple')\n",
    "daily_return(GOOGL, 'Google')\n",
    "daily_return(AMZN, 'Amazon')\n",
    "daily_return(MSFT, 'Microsoft')"
   ]
  },
  {
   "cell_type": "markdown",
   "metadata": {},
   "source": [
    "<h2> Comparison </h2>"
   ]
  },
  {
   "cell_type": "code",
   "execution_count": 11,
   "metadata": {},
   "outputs": [],
   "source": [
    "closing_df = pd.DataFrame(list([AAPL['AdjClose'],GOOGL['AdjClose'],MSFT['AdjClose'],AMZN['AdjClose']])).T\n",
    "closing_df.columns = ['AAPL', 'GOOGL', 'MSFT', 'AMZN']"
   ]
  },
  {
   "cell_type": "code",
   "execution_count": 12,
   "metadata": {},
   "outputs": [],
   "source": [
    "# calculate daily percentage return\n",
    "tech_rets = closing_df.pct_change()"
   ]
  },
  {
   "cell_type": "code",
   "execution_count": 13,
   "metadata": {},
   "outputs": [],
   "source": [
    "def joint_plot (company1, company2):\n",
    "    g = g.plot_joint(plt.scatter, color = 'green')\n",
    "    g = g.plot_marginals(sns.distplot, kde=False, color=\"green\")\n",
    "    g.annotate(stats.pearsonr, fontsize=13)\n",
    "    plt.clf()\n",
    "    return "
   ]
  },
  {
   "cell_type": "code",
   "execution_count": 14,
   "metadata": {},
   "outputs": [],
   "source": [
    "# HOW TO USE pairplot AND pairgrid\n",
    "\n",
    "# f = sns.pairplot(data=tech_rets.dropna(), height=7)\n",
    "\n",
    "# j = sns.PairGrid(tech_rets.dropna(), height=7)\n",
    "# j.map_upper(plt.scatter, color='purple')\n",
    "# j.map_lower(sns.kdeplot, cmap='Blues_d')\n",
    "# j.map_diag(plt.hist, bins=20)\n",
    "\n",
    "# j = sns.PairGrid(closing_df.dropna(), height=7)\n",
    "# j.map_upper(plt.scatter, color='purple')\n",
    "# j.map_lower(sns.kdeplot, cmap='Blues_d')\n",
    "# j.map_diag(plt.hist, bins=20)"
   ]
  },
  {
   "cell_type": "code",
   "execution_count": 15,
   "metadata": {},
   "outputs": [
    {
     "data": {
      "text/html": [
       "<div>\n",
       "<style scoped>\n",
       "    .dataframe tbody tr th:only-of-type {\n",
       "        vertical-align: middle;\n",
       "    }\n",
       "\n",
       "    .dataframe tbody tr th {\n",
       "        vertical-align: top;\n",
       "    }\n",
       "\n",
       "    .dataframe thead th {\n",
       "        text-align: right;\n",
       "    }\n",
       "</style>\n",
       "<table border=\"1\" class=\"dataframe\">\n",
       "  <thead>\n",
       "    <tr style=\"text-align: right;\">\n",
       "      <th></th>\n",
       "      <th>AAPL</th>\n",
       "      <th>GOOGL</th>\n",
       "      <th>MSFT</th>\n",
       "      <th>AMZN</th>\n",
       "    </tr>\n",
       "  </thead>\n",
       "  <tbody>\n",
       "    <tr>\n",
       "      <th>AAPL</th>\n",
       "      <td>1.000000</td>\n",
       "      <td>0.614818</td>\n",
       "      <td>0.632272</td>\n",
       "      <td>0.517114</td>\n",
       "    </tr>\n",
       "    <tr>\n",
       "      <th>GOOGL</th>\n",
       "      <td>0.614818</td>\n",
       "      <td>1.000000</td>\n",
       "      <td>0.774403</td>\n",
       "      <td>0.624475</td>\n",
       "    </tr>\n",
       "    <tr>\n",
       "      <th>MSFT</th>\n",
       "      <td>0.632272</td>\n",
       "      <td>0.774403</td>\n",
       "      <td>1.000000</td>\n",
       "      <td>0.674897</td>\n",
       "    </tr>\n",
       "    <tr>\n",
       "      <th>AMZN</th>\n",
       "      <td>0.517114</td>\n",
       "      <td>0.624475</td>\n",
       "      <td>0.674897</td>\n",
       "      <td>1.000000</td>\n",
       "    </tr>\n",
       "  </tbody>\n",
       "</table>\n",
       "</div>"
      ],
      "text/plain": [
       "           AAPL     GOOGL      MSFT      AMZN\n",
       "AAPL   1.000000  0.614818  0.632272  0.517114\n",
       "GOOGL  0.614818  1.000000  0.774403  0.624475\n",
       "MSFT   0.632272  0.774403  1.000000  0.674897\n",
       "AMZN   0.517114  0.624475  0.674897  1.000000"
      ]
     },
     "execution_count": 15,
     "metadata": {},
     "output_type": "execute_result"
    }
   ],
   "source": [
    "tech_rets.corr(method='pearson')"
   ]
  },
  {
   "cell_type": "code",
   "execution_count": 16,
   "metadata": {},
   "outputs": [
    {
     "data": {
      "text/html": [
       "<div>\n",
       "<style scoped>\n",
       "    .dataframe tbody tr th:only-of-type {\n",
       "        vertical-align: middle;\n",
       "    }\n",
       "\n",
       "    .dataframe tbody tr th {\n",
       "        vertical-align: top;\n",
       "    }\n",
       "\n",
       "    .dataframe thead th {\n",
       "        text-align: right;\n",
       "    }\n",
       "</style>\n",
       "<table border=\"1\" class=\"dataframe\">\n",
       "  <thead>\n",
       "    <tr style=\"text-align: right;\">\n",
       "      <th></th>\n",
       "      <th>AAPL</th>\n",
       "      <th>GOOGL</th>\n",
       "      <th>MSFT</th>\n",
       "      <th>AMZN</th>\n",
       "    </tr>\n",
       "  </thead>\n",
       "  <tbody>\n",
       "    <tr>\n",
       "      <th>AAPL</th>\n",
       "      <td>1.000000</td>\n",
       "      <td>0.799551</td>\n",
       "      <td>0.807912</td>\n",
       "      <td>0.705534</td>\n",
       "    </tr>\n",
       "    <tr>\n",
       "      <th>GOOGL</th>\n",
       "      <td>0.799551</td>\n",
       "      <td>1.000000</td>\n",
       "      <td>0.944656</td>\n",
       "      <td>0.838772</td>\n",
       "    </tr>\n",
       "    <tr>\n",
       "      <th>MSFT</th>\n",
       "      <td>0.807912</td>\n",
       "      <td>0.944656</td>\n",
       "      <td>1.000000</td>\n",
       "      <td>0.945623</td>\n",
       "    </tr>\n",
       "    <tr>\n",
       "      <th>AMZN</th>\n",
       "      <td>0.705534</td>\n",
       "      <td>0.838772</td>\n",
       "      <td>0.945623</td>\n",
       "      <td>1.000000</td>\n",
       "    </tr>\n",
       "  </tbody>\n",
       "</table>\n",
       "</div>"
      ],
      "text/plain": [
       "           AAPL     GOOGL      MSFT      AMZN\n",
       "AAPL   1.000000  0.799551  0.807912  0.705534\n",
       "GOOGL  0.799551  1.000000  0.944656  0.838772\n",
       "MSFT   0.807912  0.944656  1.000000  0.945623\n",
       "AMZN   0.705534  0.838772  0.945623  1.000000"
      ]
     },
     "execution_count": 16,
     "metadata": {},
     "output_type": "execute_result"
    }
   ],
   "source": [
    "closing_df.corr(method='pearson')"
   ]
  },
  {
   "cell_type": "markdown",
   "metadata": {},
   "source": [
    "<h2> Risk Analysis </h2>"
   ]
  },
  {
   "cell_type": "code",
   "execution_count": 29,
   "metadata": {},
   "outputs": [
    {
     "data": {
      "image/png": "[encoded data removed]",
      "text/plain": [
       "<Figure size 1296x360 with 1 Axes>"
      ]
     },
     "metadata": {
      "needs_background": "light"
     },
     "output_type": "display_data"
    }
   ],
   "source": [
    "rets = tech_rets.dropna()\n",
    "plt.figure(figsize=(10,5))\n",
    "fig4 = plt.scatter(x=rets.mean(), y=rets.std())\n",
    "plt.xlim(0,0.004)\n",
    "# standard deviation is risk \n",
    "plt.xlabel('Expected Return')\n",
    "plt.ylabel('Risk')\n",
    "plt.title('Daily Percentage Return', fontsize=15)\n",
    "for label, x, y in zip(rets.columns, rets.mean(), rets.std()):\n",
    "    plt.annotate(\n",
    "        label, \n",
    "        xy = (x, y), xytext = (70, 70),\n",
    "        textcoords = 'offset points', ha = 'left', va = 'top',\n",
    "        arrowprops = dict(arrowstyle = '-', connectionstyle = 'arc3,rad=-0.3', color='r'))\n",
    "fig4.figure.savefig('riskstd.png')"
   ]
  },
  {
   "cell_type": "markdown",
   "metadata": {},
   "source": [
    "<h2> Value at Risk: Empirical Quantiles </h2>"
   ]
  },
  {
   "cell_type": "code",
   "execution_count": 31,
   "metadata": {},
   "outputs": [
    {
     "data": {
      "text/plain": [
       "-0.04581236381520943"
      ]
     },
     "execution_count": 31,
     "metadata": {},
     "output_type": "execute_result"
    }
   ],
   "source": [
    "rets['GOOGL'].quantile(0.01)"
   ]
  },
  {
   "cell_type": "code",
   "execution_count": 19,
   "metadata": {},
   "outputs": [
    {
     "data": {
      "text/plain": [
       "-0.028406392861045578"
      ]
     },
     "execution_count": 19,
     "metadata": {},
     "output_type": "execute_result"
    }
   ],
   "source": [
    "rets['AAPL'].quantile(0.01)"
   ]
  },
  {
   "cell_type": "code",
   "execution_count": 20,
   "metadata": {},
   "outputs": [
    {
     "data": {
      "text/plain": [
       "-0.03943349013388162"
      ]
     },
     "execution_count": 20,
     "metadata": {},
     "output_type": "execute_result"
    }
   ],
   "source": [
    "rets['AMZN'].quantile(0.01)"
   ]
  },
  {
   "cell_type": "code",
   "execution_count": 21,
   "metadata": {},
   "outputs": [
    {
     "data": {
      "text/plain": [
       "-0.040616732212904474"
      ]
     },
     "execution_count": 21,
     "metadata": {},
     "output_type": "execute_result"
    }
   ],
   "source": [
    "rets['MSFT'].quantile(0.01)"
   ]
  },
  {
   "cell_type": "markdown",
   "metadata": {},
   "source": [
    "<h2> Value at Risk: Monte Carlo"
   ]
  },
  {
   "cell_type": "code",
   "execution_count": 22,
   "metadata": {},
   "outputs": [],
   "source": [
    "def monte_carlo (start_price,dt,mu,sigma,days):\n",
    "    price=np.zeros(days)\n",
    "    shock=np.zeros(days)\n",
    "    drift=np.zeros(days)\n",
    "    price[0]=start_price\n",
    "    \n",
    "    for i in range(1,days):\n",
    "        shock[i] = np.random.normal(loc=mu*dt, scale=sigma*np.sqrt(dt))\n",
    "        drift[i] = mu*dt \n",
    "        price[i] = price[i-1] + price[i-1]*(drift[i] + shock[i])\n",
    "    return price\n",
    "            "
   ]
  },
  {
   "cell_type": "code",
   "execution_count": 44,
   "metadata": {},
   "outputs": [
    {
     "data": {
      "text/plain": [
       "Date\n",
       "2018-03-27    1006.94\n",
       "2018-03-26    1054.09\n",
       "2018-03-23    1026.55\n",
       "2018-03-22    1053.15\n",
       "2018-03-21    1094.00\n",
       "2018-03-20    1095.80\n",
       "2018-03-19    1100.07\n",
       "2018-03-16    1134.42\n",
       "2018-03-15    1150.61\n",
       "2018-03-14    1148.89\n",
       "2018-03-13    1139.91\n",
       "2018-03-12    1165.93\n",
       "2018-03-09    1160.84\n",
       "2018-03-08    1129.38\n",
       "2018-03-07    1115.04\n",
       "2018-03-06    1100.90\n",
       "2018-03-05    1094.76\n",
       "2018-03-02    1084.14\n",
       "2018-03-01    1071.41\n",
       "2018-02-28    1103.92\n",
       "2018-02-27    1117.51\n",
       "2018-02-26    1143.70\n",
       "2018-02-23    1128.09\n",
       "2018-02-22    1109.90\n",
       "2018-02-21    1113.75\n",
       "2018-02-20    1103.59\n",
       "2018-02-16    1095.50\n",
       "2018-02-15    1091.36\n",
       "2018-02-14    1072.70\n",
       "2018-02-13    1054.14\n",
       "               ...   \n",
       "2017-09-07     949.89\n",
       "2017-09-06     942.02\n",
       "2017-09-05     941.48\n",
       "2017-09-01     951.99\n",
       "2017-08-31     955.24\n",
       "2017-08-30     943.63\n",
       "2017-08-29     935.75\n",
       "2017-08-28     928.13\n",
       "2017-08-25     930.50\n",
       "2017-08-24     936.89\n",
       "2017-08-23     942.58\n",
       "2017-08-22     940.40\n",
       "2017-08-21     920.87\n",
       "2017-08-18     926.18\n",
       "2017-08-17     927.66\n",
       "2017-08-16     944.27\n",
       "2017-08-15     938.08\n",
       "2017-08-14     938.93\n",
       "2017-08-11     930.09\n",
       "2017-08-10     923.59\n",
       "2017-08-09     940.08\n",
       "2017-08-08     944.19\n",
       "2017-08-07     945.75\n",
       "2017-08-04     945.79\n",
       "2017-08-03     940.30\n",
       "2017-08-02     947.64\n",
       "2017-08-01     946.56\n",
       "2017-07-31     945.50\n",
       "2017-07-28     958.33\n",
       "2017-07-27     952.51\n",
       "Name: AdjClose, Length: 167, dtype: float64"
      ]
     },
     "execution_count": 44,
     "metadata": {},
     "output_type": "execute_result"
    }
   ],
   "source": [
    "start_price = {\n",
    "    'GOOGL' : GOOGL['AdjClose'].iloc[0],\n",
    "    'AMZN' : AMZN['AdjClose'].iloc[0],\n",
    "    'MSFT' : MSFT['AdjClose'].iloc[0],\n",
    "    'AAPL' : AAPL['AdjClose'].iloc[0]\n",
    "}"
   ]
  },
  {
   "cell_type": "code",
   "execution_count": 38,
   "metadata": {},
   "outputs": [],
   "source": [
    "def simulation_monte_carlo(company):\n",
    "    days=365\n",
    "    dt=1/days\n",
    "    mu=rets['%s' %(company)].mean()\n",
    "    sigma=rets['%s' %(company)].std()\n",
    "    \n",
    "    runs = 500\n",
    "    simulation = np.zeros(runs)\n",
    "    start = start_price['%s' %(company)]\n",
    "    for j in range(runs):\n",
    "        simulation[j] = monte_carlo(start,dt,mu,sigma,days)[-1]\n",
    "        \n",
    "    plt.figure(figsize=(10,5))    \n",
    "    plt.hist(simulation,bins=100)\n",
    "    plt.xlabel('US dollar')\n",
    "    plt.title('Monte Carlo Simulation of %s Stock' %(company), fontsize=15)\n",
    "    \n",
    "    plt.savefig('montecarlo_%s.png' %(company))\n",
    "    plt.clf()\n",
    "    \n",
    "    mean = simulation.mean()\n",
    "    return mean"
   ]
  },
  {
   "cell_type": "code",
   "execution_count": 41,
   "metadata": {},
   "outputs": [
    {
     "data": {
      "text/plain": [
       "<Figure size 720x360 with 0 Axes>"
      ]
     },
     "metadata": {},
     "output_type": "display_data"
    },
    {
     "data": {
      "text/plain": [
       "<Figure size 720x360 with 0 Axes>"
      ]
     },
     "metadata": {},
     "output_type": "display_data"
    },
    {
     "data": {
      "text/plain": [
       "<Figure size 720x360 with 0 Axes>"
      ]
     },
     "metadata": {},
     "output_type": "display_data"
    },
    {
     "data": {
      "text/plain": [
       "<Figure size 720x360 with 0 Axes>"
      ]
     },
     "metadata": {},
     "output_type": "display_data"
    }
   ],
   "source": [
    "amazon = simulation_monte_carlo('AMZN')\n",
    "google = simulation_monte_carlo('GOOGL')\n",
    "microsoft = simulation_monte_carlo('MSFT')\n",
    "apple = simulation_monte_carlo('AAPL')"
   ]
  },
  {
   "cell_type": "code",
   "execution_count": 45,
   "metadata": {},
   "outputs": [
    {
     "name": "stdout",
     "output_type": "stream",
     "text": [
      "1504.258708081536 1008.0806639284777 89.75529101531353 168.6800859385997\n"
     ]
    }
   ],
   "source": [
    "print(amazon, google, microsoft, apple)"
   ]
  },
  {
   "cell_type": "code",
   "execution_count": 47,
   "metadata": {},
   "outputs": [
    {
     "data": {
      "text/plain": [
       "{'GOOGL': 1006.94, 'AMZN': 1497.05, 'MSFT': 89.47, 'AAPL': 168.34}"
      ]
     },
     "execution_count": 47,
     "metadata": {},
     "output_type": "execute_result"
    }
   ],
   "source": [
    "start_price"
   ]
  },
  {
   "cell_type": "code",
   "execution_count": null,
   "metadata": {},
   "outputs": [],
   "source": []
  }
 ],
 "metadata": {
  "kernelspec": {
   "display_name": "Python 3",
   "language": "python",
   "name": "python3"
  },
  "language_info": {
   "codemirror_mode": {
    "name": "ipython",
    "version": 3
   },
   "file_extension": ".py",
   "mimetype": "text/x-python",
   "name": "python",
   "nbconvert_exporter": "python",
   "pygments_lexer": "ipython3",
   "version": "3.7.3"
  }
 },
 "nbformat": 4,
 "nbformat_minor": 2
}
